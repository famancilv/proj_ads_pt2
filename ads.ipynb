{
 "cells": [
  {
   "cell_type": "markdown",
   "metadata": {},
   "source": [
    "# Snapchat Political Ads II: Model Design, Prediction Modeling."
   ]
  },
  {
   "cell_type": "markdown",
   "metadata": {},
   "source": [
    "### Introduction\n",
    "This project focuses in creating a regression model to predict the number of Impressions (views) that an ad obtained based on different features. Both models are constructed using Linear Regression and the evaluation metrics chosen are R^2 and RMSE. The dataset, ads, was cleaned using the method indicated at the bottom of this report (project03).\n",
    "\n",
    "### Baseline Model\n",
    "In order to begin constructing the baseline model, the categorical variables in our dateset were explored first. It was found that most of these variables contained values that were unique among ads and would most likely not add any information to our model, such variables  were deemed as irrelevant, therefore, the final selected categorical features were: 'Regions (Excluded)', 'Radius Targeting (Excluded)', 'Metros (Excluded)', 'Postal Codes (Excluded)', 'Location Categories (Excluded)', 'AgeBracket', 'Gender', 'AdvancedDemographics', 'Language', 'Electoral Districts(Excluded). Intuition behind choosing these features was the following: 'Regions (Excluded)', 'Radius Targeting (Excluded)', 'Metros (Excluded)', 'Postal Codes (Excluded)', 'Location Categories (Excluded)', if ad specificed a lot of excluded regions, these ads would most likely have lesser views, for 'AgeBracket', 'Gender', 'AdvancedDemographics', 'Language', these features would describe general features about the population that may lead to higher views, for instance Age targeted for an ad might have more views when targeted to younger audiences as well as AdvancedDemographics, etc. It is important to note that these features contain nominal data types and will be OneHotEncoded. Following this, numerical variables were explored. While exploring numerical variables, it was found that 'Year' was an ordinal variable. As explored in the EDA (project03), ads from 2019 tend to have more views, therefore this was a selected ordinal feature. Continuing exploring quantitative variables, the selected quantitative feature was 'Spend', ads with higher spending will tend to have more views. After selecting all our parameters, the baseline model is created: Transformer 1 holds a  SimpleImputer and an OHE for nominal features: 'Regions (Excluded)', 'Radius Targeting (Excluded)', 'Metros (Excluded)', 'Postal Codes (Excluded)', 'Location Categories (Excluded)', 'AgeBracket', 'Gender', 'AdvancedDemographics', 'Language', 'Electoral Districts(Excluded)'. Transformer 2 will hold a SimpleImputer as well (with fill_value of 0) and an OrdinalEncoder for 'Year'. The final transformer is a SimpleImputer for the quantitaive feature, 'Spend'. Putting all transformers together into a ColumnTransformer and into a final Pipeline (containing a LinearRegression model) finalizes the baseline model. In order to get the baseline evaluation metrics, an X_train/test and y_train/test split (using a size of 0.25) was created, this indidividual test outputs a R^2 value of 0.2433 and and RMSE of 98253.909. However, in order to test the range of evaluation metrics that our baseline model generates, a loop is created using the same process: creating 40 model builts in each a X_train/test and y_train/test split (using a size of 0.25) was created and R^2 and RMSE values were obtained. Plotting these R^2 values we see that the baseline model is extremely unstable, most of the R^2 values that the baseline model generated were negative, meaning that our predictions had a higher variance than the actual dataset. This leads to the conclusion that this model is not good and has a lot to improve on. The set of features selected may encalpuse a trend in Impression, however the way that these are engineered in our baseline model does not allow for these features to reflect the trend that we are trying to look for. For instance, one-hot enconding which regions were excluded in the ad does not reflect the intuitive relationship that as the higher number of regions that were excluded increases the less Impressions that an ad may have.\n",
    "\n",
    "### Final Model\n",
    "For my final model, I decided to add features based on StartDate and EndDate. These were the only columns added from the baseline model, however the feature engineering to construct and extract important information from original columns was vital in improving both the R^2 and RMSE in the final model. First, in order to extract information from StartDate and EndDate, an engineered feature that will hold the Duration of and ad was created, this feature was added through the following claim: The higher an ad was put up, \n",
    "the higher the number of Impressions it got. It is important to note that this feature holds the number of days that an ad was put up, this is in order to allow sklearn to use this feature since pd.datetime is not handled well. This was added to a Pipeline holding our first engineered feature: Getting Duration and Imputing missing values (since EndDate has missing values with 0). Reasoning behind imputing with 0 is that EndDate was found to be NMAR, therefore, we cannot determine a better interpretation of the Duration of such ad. Continuing, it was found in the EDA (project03) that there are trends across the StartDate's weekday and StartDate's month associated with the number of views: higher views at the beginning of the week, higher at the end of the year months as well. In order to extract this information, we create 2 engineered features that will output the StartDay (weekday) and StartMonth that an ad was put up, these values are passed through and OHE with an added PCA to avoid multilinearity. Next, we create a feature that will encapsule the original claim that: as more regions are excluded from the ad, the lesser views it got. In order to do this, we create a new helper function that sums non-null values aross rows within colmuns: 'Regions (Excluded)', 'Radius Targeting (Excluded)', 'Metros (Excluded)', 'Postal Codes (Excluded)', 'Location Categories (Excluded)', and  'Electoral Districts(Excluded)'. If an NaN value is present, these are counted as 0, if it was non-null, it is counted as 1. This helper function allowed to sum how many exclusions were made in an ad and was passed down in a Transfomer Pipeline to create the feature. Next, the nominal columns ('AgeBracket', 'Gender', 'AdvancedDemographics', 'Language') were created as a feature by using a OHE and a PCA to avoid multilinearity, which was not done in baseline model. Next, 'Year' was passsed through an OrdinalEncoder after going through a SimpleImputer with a fill_value of 0. Lastly, 'Spend' was just passed through as is, however, the SipleImputer was used to impute with the mean across 'Spend'. All features were passed down through a column transformer, which was used in the creation of a Pipeline using a LinearRegression model. Similarly to the baseline model, we first began to evaluate the final model by doing a X_train/test and y_train/test spit with a split of 0.25. For this single split, we get an R^2 of 0.765, which is way above the range of R^2 values we saw in the baseline model. For the RMSE, we get 10851.27, which is also significantly lower than our baseline model. In order to see the distribution across R^2 and RMSE values using our final model, we create 40 final model builts, which outputs a distribution of R^2 values in the range (~0.0 and ~0.70) and an RMSE distrubition across a range of (0 and ~250,000). To conclude, this model reflects a significantly improved performance compared to the baseline model across both the R^2 values (evaluation metric) and RMSE values. Even though we see some negative R^2 values (around ~-0.2) in our final model, the baseline model ranged across ONLY negative R^2 values of 1e14 in magnitude, which implies that our final model is way more stable than the baseline model and it is able to capture the claimed relationships across chosen columns and the number of views an ad got more sucessfully.  In order to test for the best model for our final model, we perform a similar test using all the same engineered features through a Pipeline holding a DecisionTreeTransformer: building 40 DecisionTreeModels and comparing its R^2 and RMSE values with our final model. This test reflects that choosing this type of regressor makes our model unstable and outputs a range of R^2 values of ~0.0 and ~0.5 with a cluster around ~-2.5, which is significantly lower than when using a LinearRegression model. For RMSE, the DecisionTreeRegressor also reflects RMSE values in between ~50,000 and ~100,000 while our final model got RMSE values < ~25,000. Therefore, we can conclude that our final model using a Linear Regressor reflects a better performance compared to our baseline model across both evaluation metrics, R^2 and RMSE.\n",
    "\n",
    "\n",
    "### Fairness Evaluation\n",
    "The subgroup of interest for this test was ads that were distributed outside the US and how predictions for ads in such group differed from ads distributed in the US. In order to perform a fairness evaluation across both groups, a permuation test of 300 trials was performed. This test follows a Null Hypothesis of: final model is fair, performance of model is the same across both groups. This is tested against an Alternative Hypothesis of: final model is unfair; performance of model is higher for US ads. This test uses a significance level alpha of 0.01, and a test statistic of the difference in RMSE between ads distributed outside the US and ads distributed in the US, more specifically RMSE(outside US) - RMSE (US). We began this test by getting the observed test statistic by first calulcating the RMSE of ads with a CountryCode, which represents where an ad was distributed to, that are not equal to the US, and then calculating RMSE for ads that had a CountryCode of \"united states\". Taking the RMSE(other) - RMSE(US), we get an observed stat of 12831.9. Now, we begin the permutation test using a copy of the dataframe of ads, countries, such that we do not manipute our original data. In each iteration of permutaion test, CountryCode column is shuffled and RMSE(other) and RMSE(US) are both calculated to generate the test statistic. At the end of permutations, we are able to plot our results and observe that the observed stat of 12831.9 outputs a pval of 0.217. Since p-val (0.217) is greater than alpha(0.01), we cannot reject the null and can conclude that our final model is fair across ads in subgroup of interest and ads outside of this group. In other words, there the positive difference that we see from RMSE(other) and RMSE(US) in ads does not seem to be significant, and therefore our model generates predictions that are fair across both of these groups."
   ]
  },
  {
   "cell_type": "markdown",
   "metadata": {},
   "source": [
    "# Basic Code: Data Cleaning\n",
    "\n",
    "Code from project05.py (look at file for more data cleaning details.)"
   ]
  },
  {
   "cell_type": "code",
   "execution_count": 1,
   "metadata": {},
   "outputs": [],
   "source": [
    "import matplotlib.pyplot as plt\n",
    "import numpy as np\n",
    "import os\n",
    "import pandas as pd\n",
    "import seaborn as sns\n",
    "%matplotlib inline\n",
    "%config InlineBackend.figure_format = 'retina'  # Higher resolution figures"
   ]
  },
  {
   "cell_type": "code",
   "execution_count": 3,
   "metadata": {},
   "outputs": [],
   "source": [
    "from sklearn.linear_model import LinearRegression\n",
    "from sklearn.preprocessing import FunctionTransformer\n",
    "from sklearn.preprocessing import OneHotEncoder\n",
    "from sklearn.pipeline import Pipeline\n",
    "from sklearn.compose import ColumnTransformer\n",
    "from sklearn.decomposition import PCA\n",
    "from sklearn.model_selection import GridSearchCV\n",
    "from sklearn.model_selection import train_test_split\n",
    "from sklearn.impute import SimpleImputer\n",
    "from sklearn.preprocessing import Binarizer\n",
    "from sklearn.preprocessing import OrdinalEncoder\n",
    "from sklearn.tree import DecisionTreeRegressor"
   ]
  },
  {
   "cell_type": "code",
   "execution_count": 4,
   "metadata": {},
   "outputs": [],
   "source": [
    "%load_ext autoreload\n",
    "%autoreload 2"
   ]
  },
  {
   "cell_type": "code",
   "execution_count": 5,
   "metadata": {},
   "outputs": [],
   "source": [
    "import project as proj"
   ]
  },
  {
   "cell_type": "code",
   "execution_count": 6,
   "metadata": {},
   "outputs": [
    {
     "data": {
      "text/html": [
       "<div>\n",
       "<style scoped>\n",
       "    .dataframe tbody tr th:only-of-type {\n",
       "        vertical-align: middle;\n",
       "    }\n",
       "\n",
       "    .dataframe tbody tr th {\n",
       "        vertical-align: top;\n",
       "    }\n",
       "\n",
       "    .dataframe thead th {\n",
       "        text-align: right;\n",
       "    }\n",
       "</style>\n",
       "<table border=\"1\" class=\"dataframe\">\n",
       "  <thead>\n",
       "    <tr style=\"text-align: right;\">\n",
       "      <th></th>\n",
       "      <th>Year</th>\n",
       "      <th>ADID</th>\n",
       "      <th>CreativeUrl</th>\n",
       "      <th>Currency Code</th>\n",
       "      <th>Spend</th>\n",
       "      <th>Impressions</th>\n",
       "      <th>StartDate</th>\n",
       "      <th>EndDate</th>\n",
       "      <th>OrganizationName</th>\n",
       "      <th>BillingAddress</th>\n",
       "      <th>...</th>\n",
       "      <th>Location Categories (Included)</th>\n",
       "      <th>Location Categories (Excluded)</th>\n",
       "      <th>Interests</th>\n",
       "      <th>OsType</th>\n",
       "      <th>Segments</th>\n",
       "      <th>Language</th>\n",
       "      <th>AdvancedDemographics</th>\n",
       "      <th>Targeting Connection Type</th>\n",
       "      <th>Targeting Carrier (ISP)</th>\n",
       "      <th>CreativeProperties</th>\n",
       "    </tr>\n",
       "  </thead>\n",
       "  <tbody>\n",
       "    <tr>\n",
       "      <th>0</th>\n",
       "      <td>2018</td>\n",
       "      <td>21d8fa5100ed265ae2b3b6a4642542f375a6efe9936ed5...</td>\n",
       "      <td>https://www.snap.com/political-ads/asset/6253f...</td>\n",
       "      <td>USD</td>\n",
       "      <td>345</td>\n",
       "      <td>87750</td>\n",
       "      <td>2018-10-26 18:05:50+00:00</td>\n",
       "      <td>2018-11-06 22:00:00+00:00</td>\n",
       "      <td>ACRONYM</td>\n",
       "      <td>US</td>\n",
       "      <td>...</td>\n",
       "      <td>NaN</td>\n",
       "      <td>NaN</td>\n",
       "      <td>Basketball Fans,Green Living Enthusiasts,Indie...</td>\n",
       "      <td>ALL</td>\n",
       "      <td>Provided by Advertiser</td>\n",
       "      <td>None</td>\n",
       "      <td>None</td>\n",
       "      <td>None</td>\n",
       "      <td>All</td>\n",
       "      <td>web_view_url:https://knockthe.vote/?source=sna...</td>\n",
       "    </tr>\n",
       "    <tr>\n",
       "      <th>1</th>\n",
       "      <td>2018</td>\n",
       "      <td>2471436eff38d4c282868b26b0b99134314e1fe15d03c4...</td>\n",
       "      <td>https://www.snap.com/political-ads/asset/8660e...</td>\n",
       "      <td>EUR</td>\n",
       "      <td>26</td>\n",
       "      <td>12341</td>\n",
       "      <td>2018-11-27 05:00:44+00:00</td>\n",
       "      <td>2019-01-13 11:31:15+00:00</td>\n",
       "      <td>Maxlead Services B.V.</td>\n",
       "      <td>Wilhelminapark 17,Oegstgeest,2342 AD,NL</td>\n",
       "      <td>...</td>\n",
       "      <td>NaN</td>\n",
       "      <td>NaN</td>\n",
       "      <td>None</td>\n",
       "      <td>ANDROID</td>\n",
       "      <td>Provided by Advertiser</td>\n",
       "      <td>nl</td>\n",
       "      <td>None</td>\n",
       "      <td>None</td>\n",
       "      <td>All</td>\n",
       "      <td>web_view_url:https://www.consumentenbond.nl/ac...</td>\n",
       "    </tr>\n",
       "    <tr>\n",
       "      <th>2</th>\n",
       "      <td>2018</td>\n",
       "      <td>f9b26f36da41df36d647af54a1e86b3419ef79b0d65df5...</td>\n",
       "      <td>https://www.snap.com/political-ads/asset/108fe...</td>\n",
       "      <td>USD</td>\n",
       "      <td>120</td>\n",
       "      <td>32390</td>\n",
       "      <td>2018-09-25 07:00:00+00:00</td>\n",
       "      <td>2018-09-26 07:00:00+00:00</td>\n",
       "      <td>ACRONYM</td>\n",
       "      <td>US</td>\n",
       "      <td>...</td>\n",
       "      <td>NaN</td>\n",
       "      <td>NaN</td>\n",
       "      <td>Cordcutters,Yoga Enthusiasts,Vegans &amp; Organic ...</td>\n",
       "      <td>ALL</td>\n",
       "      <td>Provided by Advertiser</td>\n",
       "      <td>None</td>\n",
       "      <td>None</td>\n",
       "      <td>None</td>\n",
       "      <td>All</td>\n",
       "      <td>web_view_url:https://ourlivesourvote.com/regis...</td>\n",
       "    </tr>\n",
       "    <tr>\n",
       "      <th>3</th>\n",
       "      <td>2018</td>\n",
       "      <td>1e776b512b0148631ffeccceb034322e91cf101d15ee46...</td>\n",
       "      <td>https://www.snap.com/political-ads/asset/5fe04...</td>\n",
       "      <td>USD</td>\n",
       "      <td>907</td>\n",
       "      <td>296577</td>\n",
       "      <td>2018-10-01 21:08:10+00:00</td>\n",
       "      <td>NaT</td>\n",
       "      <td>Mothership Strategies</td>\n",
       "      <td>1328 Florida Avenue NW, Building C, Washington...</td>\n",
       "      <td>...</td>\n",
       "      <td>NaN</td>\n",
       "      <td>NaN</td>\n",
       "      <td>None</td>\n",
       "      <td>ALL</td>\n",
       "      <td>Provided by Advertiser</td>\n",
       "      <td>None</td>\n",
       "      <td>Spanish Speakers</td>\n",
       "      <td>None</td>\n",
       "      <td>All</td>\n",
       "      <td>web_view_url:https://register.rockthevote.com/...</td>\n",
       "    </tr>\n",
       "    <tr>\n",
       "      <th>4</th>\n",
       "      <td>2018</td>\n",
       "      <td>57e32f1e9b3b92f69d7c4f62e1a1ee675fdca080b18ad3...</td>\n",
       "      <td>https://www.snap.com/political-ads/asset/c8d85...</td>\n",
       "      <td>USD</td>\n",
       "      <td>996</td>\n",
       "      <td>105047</td>\n",
       "      <td>2018-10-17 15:00:00+00:00</td>\n",
       "      <td>2018-11-07 04:00:00+00:00</td>\n",
       "      <td>Democratic Congressional Campaign Committee</td>\n",
       "      <td>430 S Capitol St SE,Washington,20003,US</td>\n",
       "      <td>...</td>\n",
       "      <td>NaN</td>\n",
       "      <td>NaN</td>\n",
       "      <td>None</td>\n",
       "      <td>ALL</td>\n",
       "      <td>NaN</td>\n",
       "      <td>None</td>\n",
       "      <td>None</td>\n",
       "      <td>None</td>\n",
       "      <td>All</td>\n",
       "      <td>web_view_url:https://mypollingplace.org/</td>\n",
       "    </tr>\n",
       "  </tbody>\n",
       "</table>\n",
       "<p>5 rows × 35 columns</p>\n",
       "</div>"
      ],
      "text/plain": [
       "   Year                                               ADID  \\\n",
       "0  2018  21d8fa5100ed265ae2b3b6a4642542f375a6efe9936ed5...   \n",
       "1  2018  2471436eff38d4c282868b26b0b99134314e1fe15d03c4...   \n",
       "2  2018  f9b26f36da41df36d647af54a1e86b3419ef79b0d65df5...   \n",
       "3  2018  1e776b512b0148631ffeccceb034322e91cf101d15ee46...   \n",
       "4  2018  57e32f1e9b3b92f69d7c4f62e1a1ee675fdca080b18ad3...   \n",
       "\n",
       "                                         CreativeUrl Currency Code  Spend  \\\n",
       "0  https://www.snap.com/political-ads/asset/6253f...           USD    345   \n",
       "1  https://www.snap.com/political-ads/asset/8660e...           EUR     26   \n",
       "2  https://www.snap.com/political-ads/asset/108fe...           USD    120   \n",
       "3  https://www.snap.com/political-ads/asset/5fe04...           USD    907   \n",
       "4  https://www.snap.com/political-ads/asset/c8d85...           USD    996   \n",
       "\n",
       "   Impressions                 StartDate                   EndDate  \\\n",
       "0        87750 2018-10-26 18:05:50+00:00 2018-11-06 22:00:00+00:00   \n",
       "1        12341 2018-11-27 05:00:44+00:00 2019-01-13 11:31:15+00:00   \n",
       "2        32390 2018-09-25 07:00:00+00:00 2018-09-26 07:00:00+00:00   \n",
       "3       296577 2018-10-01 21:08:10+00:00                       NaT   \n",
       "4       105047 2018-10-17 15:00:00+00:00 2018-11-07 04:00:00+00:00   \n",
       "\n",
       "                              OrganizationName  \\\n",
       "0                                      ACRONYM   \n",
       "1                        Maxlead Services B.V.   \n",
       "2                                      ACRONYM   \n",
       "3                        Mothership Strategies   \n",
       "4  Democratic Congressional Campaign Committee   \n",
       "\n",
       "                                      BillingAddress  ...  \\\n",
       "0                                                 US  ...   \n",
       "1            Wilhelminapark 17,Oegstgeest,2342 AD,NL  ...   \n",
       "2                                                 US  ...   \n",
       "3  1328 Florida Avenue NW, Building C, Washington...  ...   \n",
       "4            430 S Capitol St SE,Washington,20003,US  ...   \n",
       "\n",
       "  Location Categories (Included) Location Categories (Excluded)  \\\n",
       "0                            NaN                            NaN   \n",
       "1                            NaN                            NaN   \n",
       "2                            NaN                            NaN   \n",
       "3                            NaN                            NaN   \n",
       "4                            NaN                            NaN   \n",
       "\n",
       "                                           Interests   OsType  \\\n",
       "0  Basketball Fans,Green Living Enthusiasts,Indie...      ALL   \n",
       "1                                               None  ANDROID   \n",
       "2  Cordcutters,Yoga Enthusiasts,Vegans & Organic ...      ALL   \n",
       "3                                               None      ALL   \n",
       "4                                               None      ALL   \n",
       "\n",
       "                 Segments Language AdvancedDemographics  \\\n",
       "0  Provided by Advertiser     None                 None   \n",
       "1  Provided by Advertiser       nl                 None   \n",
       "2  Provided by Advertiser     None                 None   \n",
       "3  Provided by Advertiser     None     Spanish Speakers   \n",
       "4                     NaN     None                 None   \n",
       "\n",
       "  Targeting Connection Type  Targeting Carrier (ISP)  \\\n",
       "0                      None                      All   \n",
       "1                      None                      All   \n",
       "2                      None                      All   \n",
       "3                      None                      All   \n",
       "4                      None                      All   \n",
       "\n",
       "                                  CreativeProperties  \n",
       "0  web_view_url:https://knockthe.vote/?source=sna...  \n",
       "1  web_view_url:https://www.consumentenbond.nl/ac...  \n",
       "2  web_view_url:https://ourlivesourvote.com/regis...  \n",
       "3  web_view_url:https://register.rockthevote.com/...  \n",
       "4           web_view_url:https://mypollingplace.org/  \n",
       "\n",
       "[5 rows x 35 columns]"
      ]
     },
     "execution_count": 6,
     "metadata": {},
     "output_type": "execute_result"
    }
   ],
   "source": [
    "# Importing data and Cleaning it!\n",
    "\n",
    "# We are going to export both data sets and using a funtion from project05.py file (clean_data).\n",
    "ads18_fp = os.path.join('data', 'PoliticalAds2018.csv')\n",
    "ads19_fp = os.path.join('data', 'PoliticalAds2019.csv')\n",
    "ads18 = pd.read_csv(ads18_fp)\n",
    "ads19 = pd.read_csv(ads19_fp)\n",
    "\n",
    "ads = proj.clean_data(ads18, ads19) # (description of what this function does exactly on py file is on the bottom of the notebook)\n",
    "ads.head()"
   ]
  },
  {
   "cell_type": "markdown",
   "metadata": {},
   "source": [
    "### Baseline Model\n",
    "Goal: Creating a baseline model to improve on."
   ]
  },
  {
   "cell_type": "code",
   "execution_count": 7,
   "metadata": {},
   "outputs": [],
   "source": [
    "# in order to see what needs to be done in a simple baseline model we need to check the different kinds of data we have in ads\n",
    "\n",
    "# Lets start with categorical columns = Columns that have a string value!\n",
    "ads.select_dtypes(include='object').columns\n",
    "\n",
    "# Analysis:\n",
    "# Columns to NOT include in analysis: ADID contains an unique identifer for each AD, CreativeProperties since it contains a specified call\n",
    "# to action. CreativeURL column, which we will assume that is unique and does not have a contribution to predicting views. All these\n",
    "# columns can be dropped from baseline model since we can assume that it does not provide our model with much information! Same logic\n",
    "# can go for columns BillingAdress and CandidateBallotInformation as well. Therefore, we will NOT use these columns in either \n",
    "# the basile AND final model!\n",
    "\n",
    "to_drop = ['ADID', 'CreativeUrl', 'CreativeProperties', 'BillingAddress', 'CandidateBallotInformation']\n",
    "\n",
    "ads = ads.drop(to_drop, axis=1) # dropping ADID, CreativeURL, CreativeProperties, BillingAddress, CandidateBallotInformation"
   ]
  },
  {
   "cell_type": "code",
   "execution_count": 8,
   "metadata": {},
   "outputs": [
    {
     "data": {
      "text/plain": [
       "<matplotlib.axes._subplots.AxesSubplot at 0x1d836bb9a08>"
      ]
     },
     "execution_count": 8,
     "metadata": {},
     "output_type": "execute_result"
    },
    {
     "data": {
      "image/png": "[encoded data removed]",
      "text/plain": [
       "<Figure size 432x288 with 1 Axes>"
      ]
     },
     "metadata": {
      "image/png": {
       "height": 395,
       "width": 375
      },
      "needs_background": "light"
     },
     "output_type": "display_data"
    }
   ],
   "source": [
    "# in order to gain an insight in the 'uniqueness' categorical values, and gain an insight into how much information they are proving \n",
    "# about ad, let us graph a barplot with the nunique values per column!\n",
    "\n",
    "ads.select_dtypes(include='object').nunique().plot(kind='bar')\n",
    "\n",
    "# there is STILL lots of columns with unique values up to ~450, but since this is a baseline model, this very basic model\n",
    "# will choose to hot encode all of them. Later in final model, these features might be unified or dropped depending on relevancy..."
   ]
  },
  {
   "cell_type": "code",
   "execution_count": 203,
   "metadata": {},
   "outputs": [],
   "source": [
    "# we still have a LOT of categorical columns that may not have any effect on Impressions, such as Currency Code, OrganizationName, Paying\n",
    "# Advertiser, looking through the columns we will be deciding to select...\n",
    "\n",
    "catcols = ['Regions (Excluded)', 'Radius Targeting (Excluded)', 'Metros (Excluded)',  \n",
    "            'Postal Codes (Excluded)', 'Location Categories (Excluded)', 'AgeBracket', \n",
    "         'Gender', 'AdvancedDemographics', 'Language']\n",
    "\n",
    "# Logic behind selection, depending on exlcuded regions (if any) an ad can gain less views, AgeBraket will definetely\n",
    "# be a factor since the higher the age the less they may be technologically enclined etc. Views can also vary from Demograhic targeted\n",
    "# (especially at a time of election), language, and Gender...\n",
    "# Note: ALL these columns are nominal, therefore they will be passed through an OHE in our baseline model"
   ]
  },
  {
   "cell_type": "code",
   "execution_count": 204,
   "metadata": {},
   "outputs": [
    {
     "data": {
      "text/plain": [
       "Index(['Year', 'Spend', 'Impressions', 'StartDate', 'EndDate',\n",
       "       'Electoral Districts (Excluded)'],\n",
       "      dtype='object')"
      ]
     },
     "execution_count": 204,
     "metadata": {},
     "output_type": "execute_result"
    }
   ],
   "source": [
    "# Now ... lets look at columns with quantitative variables in our data set\n",
    "\n",
    "ads.select_dtypes(exclude='object').columns\n",
    "\n",
    "# Observation: StartDate and EndDate will most likely not be handled well by sklearn, therefore we will drop these from our\n",
    "# quantitative data types"
   ]
  },
  {
   "cell_type": "code",
   "execution_count": 205,
   "metadata": {},
   "outputs": [
    {
     "data": {
      "text/plain": [
       "Year                              0.000000\n",
       "Spend                             0.000000\n",
       "Impressions                       0.000000\n",
       "StartDate                         0.000000\n",
       "EndDate                           0.182052\n",
       "Electoral Districts (Excluded)    1.000000\n",
       "dtype: float64"
      ]
     },
     "execution_count": 205,
     "metadata": {},
     "output_type": "execute_result"
    }
   ],
   "source": [
    "# for now, lets revise the NaN values in these columns in order to see how our 0 imputation might affect it!\n",
    "\n",
    "ads.select_dtypes(exclude='object').isnull().mean()\n",
    "\n",
    "# NOTE: Column 'Electoral Districts (Excluded)' is COMPLETELY blank, therefore, we cannot be sure if this is truly a categorical column..."
   ]
  },
  {
   "cell_type": "code",
   "execution_count": 206,
   "metadata": {},
   "outputs": [
    {
     "data": {
      "text/plain": [
       "array([nan, 'California 25th District', 'Florida 16th District',\n",
       "       'Texas 7th District', 'Texas 23rd District',\n",
       "       'California 50th District', 'California 39th District',\n",
       "       'California 45th District',\n",
       "       'Florida 27th District,Florida 26th District',\n",
       "       'Colorado 1st District,Colorado 2nd District,Colorado 6th District'],\n",
       "      dtype=object)"
      ]
     },
     "execution_count": 206,
     "metadata": {},
     "output_type": "execute_result"
    }
   ],
   "source": [
    "# in order to see whether 'Electoral Districts (Excluded)' should be quantitative, let us explore the values in column\n",
    "# 'Electoral Districts (Included)'\n",
    "\n",
    "ads['Electoral Districts (Included)'].unique()"
   ]
  },
  {
   "cell_type": "code",
   "execution_count": 207,
   "metadata": {},
   "outputs": [],
   "source": [
    "# it appears that 'Electoral Districts (Excluded)' should rlly be categorical! \n",
    "# we need to add it to catcols\n",
    "catcols.append('Electoral Districts (Excluded)')"
   ]
  },
  {
   "cell_type": "code",
   "execution_count": 210,
   "metadata": {},
   "outputs": [],
   "source": [
    "# it is also important to note that the column 'Year' ONLY has two values. Even thought Year is represented as an int, it does NOT \n",
    "# have a quantitative 'meaning' behind it, rather it is an oridinal data type! As seen in EDA (proj03), the number of views depending on\n",
    "# year HIGHLY differs: as we enter 2019, the number of Impressions tends to increase most likely due to the election yr approaching\n",
    "# (at least in the states, which is where most of the data is coming from!)\n",
    "\n",
    "# We will create a list of ordinal features, only 'Year' will be included!\n",
    "\n",
    "ordinal = ['Year'] "
   ]
  },
  {
   "cell_type": "code",
   "execution_count": 211,
   "metadata": {},
   "outputs": [
    {
     "data": {
      "text/plain": [
       "['Spend']"
      ]
     },
     "execution_count": 211,
     "metadata": {},
     "output_type": "execute_result"
    }
   ],
   "source": [
    "# Now, for our quantitative columns for our baseline model we ONLY have...\n",
    "# (excluding Impressions of course since this is our target)\n",
    "\n",
    "numcols = ['Spend']\n",
    "numcols"
   ]
  },
  {
   "cell_type": "code",
   "execution_count": 212,
   "metadata": {},
   "outputs": [],
   "source": [
    "#### BASELINE MODEL ############\n",
    "\n",
    "# Transformer #1: Impute catcols with NULL (necessary to prevent ohe error, one hot encodes catcols\n",
    "cats = Pipeline([\n",
    "    ('imp', SimpleImputer(strategy='constant', fill_value='NULL')),\n",
    "    ('ohe', OneHotEncoder(handle_unknown='ignore', sparse=False)),\n",
    "])\n",
    "\n",
    "# Transformer #2: Setting up an ordinal encoder for Year feature!\n",
    "ords = Pipeline([\n",
    "    ('imp', SimpleImputer(strategy='constant', fill_value=0)),\n",
    "    ('ordinal enc', OrdinalEncoder())\n",
    "    \n",
    "])\n",
    "\n",
    "##### Setting up column transformer: Compute catcols transformations and Impute missing vales in numcols with 0.\n",
    "ct = ColumnTransformer([\n",
    "    ('catcols', cats, catcols),\n",
    "    ('ordinalcols', ords, ordinal),\n",
    "    ('numcols', SimpleImputer(strategy='constant', fill_value=0), numcols)\n",
    "])\n",
    "\n",
    "###### Uniting all steps into single Pipeline\n",
    "pl = Pipeline([('feats', ct), ('reg', LinearRegression())])"
   ]
  },
  {
   "cell_type": "code",
   "execution_count": 214,
   "metadata": {},
   "outputs": [
    {
     "data": {
      "text/plain": [
       "0.24336801728023383"
      ]
     },
     "execution_count": 214,
     "metadata": {},
     "output_type": "execute_result"
    }
   ],
   "source": [
    "#### GETTING BASELINE SCORES\n",
    "\n",
    "# Separating test and train data with train_test_split with ads!\n",
    "# It is important to note that Pipeline will ONLY use given features despite ads shape\n",
    "# y is the amount of views an ad has, so ads.Impressions\n",
    "\n",
    "X_tr, X_ts, y_tr, y_ts = train_test_split(ads.drop('Impressions', axis=1), ads.Impressions, test_size=0.25)\n",
    "\n",
    "pl.fit(X_tr, y_tr) # fitting to X_train and y_train\n",
    "pl.score(X_ts, y_ts) # getting R^2"
   ]
  },
  {
   "cell_type": "code",
   "execution_count": 215,
   "metadata": {},
   "outputs": [
    {
     "data": {
      "text/plain": [
       "98253.90937469377"
      ]
     },
     "execution_count": 215,
     "metadata": {},
     "output_type": "execute_result"
    }
   ],
   "source": [
    "# Getting RMSE\n",
    "preds = pl.predict(X_ts)\n",
    "np.sqrt(np.mean(preds - y_ts)**2)\n",
    "\n",
    "# Observation: Really high "
   ]
  },
  {
   "cell_type": "code",
   "execution_count": 80,
   "metadata": {},
   "outputs": [],
   "source": [
    "# Creating loop to see how the scores change across only 40 model builds!\n",
    "r2 = []\n",
    "rmse = []\n",
    "\n",
    "for _ in range(40):\n",
    "    X_tr, X_ts, y_tr, y_ts = train_test_split(ads.drop('Impressions', axis=1), ads.Impressions, test_size=0.25)\n",
    "    pl.fit(X_tr, y_tr) # fitting to X_train and y_train\n",
    "    r2.append(pl.score(X_ts, y_ts))\n",
    "    preds = pl.predict(X_ts)\n",
    "    rmse.append(np.sqrt(np.mean(preds - y_ts)**2))"
   ]
  },
  {
   "cell_type": "code",
   "execution_count": 81,
   "metadata": {},
   "outputs": [
    {
     "data": {
      "image/png": "[encoded data removed]",
      "text/plain": [
       "<Figure size 1080x288 with 2 Axes>"
      ]
     },
     "metadata": {
      "image/png": {
       "height": 276,
       "width": 884
      },
      "needs_background": "light"
     },
     "output_type": "display_data"
    }
   ],
   "source": [
    "# Plotting all R2 values and RMSE values!\n",
    "\n",
    "fig, axes = plt.subplots(1, 2)\n",
    "\n",
    "pd.Series(r2).plot(kind='hist', title='r2 in 40 baseline model builts', ax=axes[0]); #r2 plot\n",
    "pd.Series(rmse).plot(kind='hist', title='rmse in 40 baseline model builts', ax=axes[1]); # rmse plot\n",
    "\n",
    "fig.set_figwidth(15)"
   ]
  },
  {
   "cell_type": "code",
   "execution_count": 82,
   "metadata": {},
   "outputs": [],
   "source": [
    "# Baseline model is EXTREMELY unstable and does not pick up on the different patterns that lead to a successful model of predicting\n",
    "# Impressions in an ad. Looking at the right plot of the R^2 values for each model built, we can see that all R^2 values found were \n",
    "# negative, these negative R^2 also are EXTREMLY high in magnitude as seen by the scaling of the plot! (1e13). Looking at RMSE (alse\n",
    "# to illustrate quality of the model), we can see that there are instances were we get EXTREMELY high values of RMSE (plot is scaled\n",
    "# to 1e12, meaning that there are instances where we have RMSE values at 1.2*10^12! Our engineered features in our baseline model\n",
    "# do NOT reflect the pattern, even though the selected features (columns in ads) may reflect a relationship between Impressions and \n",
    "# characteristics of an ad, the way these are engineered do NOT reflect the pattern we are trying to pick up."
   ]
  },
  {
   "cell_type": "markdown",
   "metadata": {},
   "source": [
    "### Final Model"
   ]
  },
  {
   "cell_type": "code",
   "execution_count": 83,
   "metadata": {},
   "outputs": [],
   "source": [
    "# In order to improve out model, we need to decide which features are able to describe our target the best. That is, what is able to\n",
    "# explain the change in Impressions by a given ad? In order to do this, we must investigate different patterns we see as the number\n",
    "# of Impressions fluctuates."
   ]
  },
  {
   "cell_type": "code",
   "execution_count": 9,
   "metadata": {},
   "outputs": [],
   "source": [
    "# 1. First engineered feature we will create will be to extract information from StartDate and EndDate, more specifically \n",
    "# the duration of an ad!\n",
    "\n",
    "# NOTE: These are added features that were NOT included in baseline model due to sklearn not being able to handle them.\n",
    "# In our final model, we will engineer such features such that we extract the important information from them.\n",
    "\n",
    "# first, we will create a helper function that will extract the duration of an ad: how many total days was the ad put up?\n",
    "\n",
    "def get_duration(row):\n",
    "    # row will contain StartDate and EndDate\n",
    "    df = pd.DataFrame(columns=['Duration'])\n",
    "    df.Duration = (row.EndDate - row.StartDate).dt.days # NOTE: this is duration in DAYS\n",
    "    return df"
   ]
  },
  {
   "cell_type": "code",
   "execution_count": 10,
   "metadata": {},
   "outputs": [
    {
     "data": {
      "text/html": [
       "<div>\n",
       "<style scoped>\n",
       "    .dataframe tbody tr th:only-of-type {\n",
       "        vertical-align: middle;\n",
       "    }\n",
       "\n",
       "    .dataframe tbody tr th {\n",
       "        vertical-align: top;\n",
       "    }\n",
       "\n",
       "    .dataframe thead th {\n",
       "        text-align: right;\n",
       "    }\n",
       "</style>\n",
       "<table border=\"1\" class=\"dataframe\">\n",
       "  <thead>\n",
       "    <tr style=\"text-align: right;\">\n",
       "      <th></th>\n",
       "      <th>Duration</th>\n",
       "    </tr>\n",
       "  </thead>\n",
       "  <tbody>\n",
       "    <tr>\n",
       "      <th>0</th>\n",
       "      <td>11.0</td>\n",
       "    </tr>\n",
       "    <tr>\n",
       "      <th>1</th>\n",
       "      <td>47.0</td>\n",
       "    </tr>\n",
       "    <tr>\n",
       "      <th>2</th>\n",
       "      <td>1.0</td>\n",
       "    </tr>\n",
       "    <tr>\n",
       "      <th>3</th>\n",
       "      <td>NaN</td>\n",
       "    </tr>\n",
       "    <tr>\n",
       "      <th>4</th>\n",
       "      <td>20.0</td>\n",
       "    </tr>\n",
       "  </tbody>\n",
       "</table>\n",
       "</div>"
      ],
      "text/plain": [
       "   Duration\n",
       "0      11.0\n",
       "1      47.0\n",
       "2       1.0\n",
       "3       NaN\n",
       "4      20.0"
      ]
     },
     "execution_count": 10,
     "metadata": {},
     "output_type": "execute_result"
    }
   ],
   "source": [
    "# how will our transformation look like? \n",
    "\n",
    "func = FunctionTransformer(get_duration)\n",
    "func.transform(ads[['StartDate', 'EndDate']].head()) # this will be the designed feature!\n",
    "\n",
    "# NOTICE: we still have to add a SimpleImputer since EndDate has missing values that will not allow us to calculate Duration.\n",
    "# In project03, it was found that EndDate was an NMAR column therefore, if EndDate is not present, we cannot determine a straightforward\n",
    "# imputation for Duration, due to this we will replace Duration's missingness with a default fill_value = 0."
   ]
  },
  {
   "cell_type": "code",
   "execution_count": 11,
   "metadata": {},
   "outputs": [],
   "source": [
    "# (creating pipeline transformer)\n",
    "\n",
    "dates = ['StartDate', 'EndDate'] # columns that will be used!\n",
    "\n",
    "# Transformer Pipeline #1\n",
    "duration = Pipeline([\n",
    "    ('durations', FunctionTransformer(get_duration)),\n",
    "    ('imp', SimpleImputer(strategy='constant', fill_value=0)) # we are imputing with 0!\n",
    "])"
   ]
  },
  {
   "cell_type": "code",
   "execution_count": 12,
   "metadata": {},
   "outputs": [],
   "source": [
    "# 2. We want to extract the day of the week and month the ad started! From project03, it was found that the number of Impressions has \n",
    "# the trend that # of views tends to increase if the ad was posted at the beginning of the week, and Impressions in ads that were\n",
    "# posted in months such as December (towards the end of the year).\n",
    "\n",
    "def get_dates(row):\n",
    "    df = pd.DataFrame(columns=['DayStart', 'MonthStart'])\n",
    "    df.DayStart = row.StartDate.dt.day_name() # getting weekday NAME\n",
    "    df.MonthStart = row.StartDate.dt.month_name() # getting month NAME\n",
    "    return df"
   ]
  },
  {
   "cell_type": "code",
   "execution_count": 13,
   "metadata": {},
   "outputs": [
    {
     "data": {
      "text/html": [
       "<div>\n",
       "<style scoped>\n",
       "    .dataframe tbody tr th:only-of-type {\n",
       "        vertical-align: middle;\n",
       "    }\n",
       "\n",
       "    .dataframe tbody tr th {\n",
       "        vertical-align: top;\n",
       "    }\n",
       "\n",
       "    .dataframe thead th {\n",
       "        text-align: right;\n",
       "    }\n",
       "</style>\n",
       "<table border=\"1\" class=\"dataframe\">\n",
       "  <thead>\n",
       "    <tr style=\"text-align: right;\">\n",
       "      <th></th>\n",
       "      <th>DayStart</th>\n",
       "      <th>MonthStart</th>\n",
       "    </tr>\n",
       "  </thead>\n",
       "  <tbody>\n",
       "    <tr>\n",
       "      <th>0</th>\n",
       "      <td>Friday</td>\n",
       "      <td>October</td>\n",
       "    </tr>\n",
       "    <tr>\n",
       "      <th>1</th>\n",
       "      <td>Tuesday</td>\n",
       "      <td>November</td>\n",
       "    </tr>\n",
       "    <tr>\n",
       "      <th>2</th>\n",
       "      <td>Tuesday</td>\n",
       "      <td>September</td>\n",
       "    </tr>\n",
       "    <tr>\n",
       "      <th>3</th>\n",
       "      <td>Monday</td>\n",
       "      <td>October</td>\n",
       "    </tr>\n",
       "    <tr>\n",
       "      <th>4</th>\n",
       "      <td>Wednesday</td>\n",
       "      <td>October</td>\n",
       "    </tr>\n",
       "  </tbody>\n",
       "</table>\n",
       "</div>"
      ],
      "text/plain": [
       "    DayStart MonthStart\n",
       "0     Friday    October\n",
       "1    Tuesday   November\n",
       "2    Tuesday  September\n",
       "3     Monday    October\n",
       "4  Wednesday    October"
      ]
     },
     "execution_count": 13,
     "metadata": {},
     "output_type": "execute_result"
    }
   ],
   "source": [
    "# (example of transformation #2)\n",
    "\n",
    "func = FunctionTransformer(get_dates)\n",
    "func.transform(ads[['StartDate']].head()) # NOTICE: we converted these to STRINGS, we want to OHE as well\n",
    "# it would not make sense to put them as a numerical value since the numerical value will not be able to tell us much about the ad."
   ]
  },
  {
   "cell_type": "code",
   "execution_count": 14,
   "metadata": {},
   "outputs": [],
   "source": [
    "# Transfomer Pipeline #2\n",
    "\n",
    "startdate = ['StartDate']\n",
    "\n",
    "starts = Pipeline([\n",
    "    ('startdays', FunctionTransformer(get_dates)),\n",
    "    ('ohe', OneHotEncoder(handle_unknown='ignore', sparse=False)),  \n",
    "    ('pca', PCA(svd_solver='full', n_components=0.99)) # adding PCA to avoid multinearity!\n",
    "])"
   ]
  },
  {
   "cell_type": "code",
   "execution_count": 15,
   "metadata": {},
   "outputs": [],
   "source": [
    "# 3. In baseline model, it was clear that one-hot encoding all regions included DID NOT give much information about the Impressions\n",
    "# therefore, instead of using an OHE transformer to interpret the meaning of these nominal features, we will group the regions that\n",
    "# were excluded from the ad. This is further more following our claim that: The more excluded regions, the lesser the views an add has!\n",
    "\n",
    "# Columns that we will transform are: ['Regions (Excluded)', \n",
    "#       'Electoral Districts (Excluded)', 'Radius Targeting (Excluded)', 'Metros (Excluded)',  \n",
    "#            'Postal Codes (Excluded)', 'Location Categories (Excluded)']\n",
    "\n",
    "# Lets create a helper function:\n",
    "\n",
    "def region_target(row):\n",
    "    # transforming row into 1 if non null and 0 if null\n",
    "    row = row.isnull().replace({False: 1, True:0})\n",
    "    s = row.sum(axis=1) # SUMMING across row the number of geographical categories that were excluded from an ad!\n",
    "    return pd.DataFrame(s)"
   ]
  },
  {
   "cell_type": "code",
   "execution_count": 16,
   "metadata": {},
   "outputs": [
    {
     "data": {
      "text/html": [
       "<div>\n",
       "<style scoped>\n",
       "    .dataframe tbody tr th:only-of-type {\n",
       "        vertical-align: middle;\n",
       "    }\n",
       "\n",
       "    .dataframe tbody tr th {\n",
       "        vertical-align: top;\n",
       "    }\n",
       "\n",
       "    .dataframe thead th {\n",
       "        text-align: right;\n",
       "    }\n",
       "</style>\n",
       "<table border=\"1\" class=\"dataframe\">\n",
       "  <thead>\n",
       "    <tr style=\"text-align: right;\">\n",
       "      <th></th>\n",
       "      <th>0</th>\n",
       "    </tr>\n",
       "  </thead>\n",
       "  <tbody>\n",
       "    <tr>\n",
       "      <th>0</th>\n",
       "      <td>0.0</td>\n",
       "    </tr>\n",
       "    <tr>\n",
       "      <th>1</th>\n",
       "      <td>0.0</td>\n",
       "    </tr>\n",
       "    <tr>\n",
       "      <th>2</th>\n",
       "      <td>0.0</td>\n",
       "    </tr>\n",
       "    <tr>\n",
       "      <th>3</th>\n",
       "      <td>0.0</td>\n",
       "    </tr>\n",
       "    <tr>\n",
       "      <th>4</th>\n",
       "      <td>0.0</td>\n",
       "    </tr>\n",
       "  </tbody>\n",
       "</table>\n",
       "</div>"
      ],
      "text/plain": [
       "     0\n",
       "0  0.0\n",
       "1  0.0\n",
       "2  0.0\n",
       "3  0.0\n",
       "4  0.0"
      ]
     },
     "execution_count": 16,
     "metadata": {},
     "output_type": "execute_result"
    }
   ],
   "source": [
    "# (example of (engineered) feature 3)\n",
    "\n",
    "func = FunctionTransformer(region_target)\n",
    "func.transform(ads[['Regions (Excluded)', \n",
    "       'Electoral Districts (Excluded)', 'Radius Targeting (Excluded)', 'Metros (Excluded)',  \n",
    "            'Postal Codes (Excluded)', 'Location Categories (Excluded)']].head())"
   ]
  },
  {
   "cell_type": "code",
   "execution_count": 17,
   "metadata": {},
   "outputs": [],
   "source": [
    "# Transformer Pipeline #3\n",
    "\n",
    "regions = ['Regions (Excluded)', \n",
    "       'Electoral Districts (Excluded)', 'Radius Targeting (Excluded)', 'Metros (Excluded)',  \n",
    "            'Postal Codes (Excluded)', 'Location Categories (Excluded)']\n",
    "\n",
    "regional = Pipeline([\n",
    "    ('region excluded', FunctionTransformer(region_target)),\n",
    "    ('imputer', SimpleImputer(strategy='constant', fill_value=0)) # in case of ANY missing values (to avoid any general errors)\n",
    "])"
   ]
  },
  {
   "cell_type": "code",
   "execution_count": 18,
   "metadata": {},
   "outputs": [],
   "source": [
    "# 4. We still want to OHE columns: ['AgeBracket', 'Gender', 'AdvancedDemographics', 'Year', 'Language'], but now we will be adding a \n",
    "# PCA in order to prevent multilinearity.\n",
    "\n",
    "ohe_cols =  ['AgeBracket', 'Gender', 'AdvancedDemographics', 'Language']\n",
    "\n",
    "# Transfomer Pipeline #4\n",
    "ohe = Pipeline([\n",
    "    ('imp', SimpleImputer(strategy='constant', fill_value='NULL')), # (imputer to prevent errors)\n",
    "    ('ohe', OneHotEncoder(handle_unknown='ignore', sparse=False)),\n",
    "    ('pca', PCA(svd_solver='full', n_components=0.99))\n",
    "])"
   ]
  },
  {
   "cell_type": "code",
   "execution_count": 19,
   "metadata": {},
   "outputs": [],
   "source": [
    "# 5. We are STILL going to include Year's Ordinal Encoder Transformer (this is included again for illustration purposes)\n",
    "\n",
    "ordinal = ['Year']\n",
    "\n",
    "# Transformer Pipeline #5: Setting up an ordinal encoder for Year feature!\n",
    "ords = Pipeline([\n",
    "    ('imp', SimpleImputer(strategy='constant', fill_value=0)), # (filling in with 0 in case of null values to avoid general errors)\n",
    "    ('ordinal enc', OrdinalEncoder())\n",
    "])"
   ]
  },
  {
   "cell_type": "code",
   "execution_count": 20,
   "metadata": {},
   "outputs": [],
   "source": [
    "# 6. Passing through Spend as it is: General Claim: as Spending increases, reachibility for the ad ALSO increases and therefore, \n",
    "# Impressions increase! \n",
    "\n",
    "passing_cols = ['Spend']\n",
    "\n",
    "# Transformer Pipeline #6 (Doesnt do much other than imputing values with MEAN, and passing it through)\n",
    "passing = Pipeline([\n",
    "    ('imputer', SimpleImputer(strategy='mean')), # (imputer using MEAN!)\n",
    "    ('func', FunctionTransformer(lambda x:x))\n",
    "])"
   ]
  },
  {
   "cell_type": "code",
   "execution_count": 21,
   "metadata": {},
   "outputs": [],
   "source": [
    "###### FINAL COLUMN TRANSFORMER ###########\n",
    "\n",
    "# (putting together the 6 pipeline transformers)\n",
    "ct = ColumnTransformer([\n",
    "    ('duration', duration, dates),\n",
    "    ('start day/month', starts, startdate),\n",
    "    ('region excluded', regional, regions),\n",
    "    ('ohe', ohe, ohe_cols),\n",
    "    ('ordinal', ords, ordinal),\n",
    "    ('passing', passing, passing_cols)\n",
    "])\n",
    "\n",
    "\n",
    "####### FINAL PIPELINE ##########\n",
    "pl = Pipeline([('feats', ct), ('reg', LinearRegression())])"
   ]
  },
  {
   "cell_type": "code",
   "execution_count": 217,
   "metadata": {},
   "outputs": [
    {
     "data": {
      "text/plain": [
       "0.7657808800881536"
      ]
     },
     "execution_count": 217,
     "metadata": {},
     "output_type": "execute_result"
    }
   ],
   "source": [
    "# now, lets see how it performs compared to baseline\n",
    "\n",
    "X_tr, X_ts, y_tr, y_ts = train_test_split(ads.drop('Impressions', axis=1), ads.Impressions, test_size=0.25)\n",
    "\n",
    "pl.fit(X_tr, y_tr) # fitting to X_train and y_train\n",
    "pl.score(X_ts, y_ts) # higher than baseline model!"
   ]
  },
  {
   "cell_type": "code",
   "execution_count": 218,
   "metadata": {},
   "outputs": [
    {
     "data": {
      "text/plain": [
       "10851.271247613466"
      ]
     },
     "execution_count": 218,
     "metadata": {},
     "output_type": "execute_result"
    }
   ],
   "source": [
    "# Getting RMSE for final model!\n",
    "\n",
    "preds = pl.predict(X_ts)\n",
    "np.sqrt(np.mean(preds - y_ts)**2) # way lower RMSE than baseline model"
   ]
  },
  {
   "cell_type": "code",
   "execution_count": 234,
   "metadata": {},
   "outputs": [],
   "source": [
    "# running 40 model builds all with diffrent X_tr/ts and y_tr/ts models to see overall performance\n",
    "\n",
    "r2 = []\n",
    "rmse = []\n",
    "for _ in range(40):\n",
    "    X_tr, X_ts, y_tr, y_ts = train_test_split(ads.drop('Impressions', axis=1), ads.Impressions, test_size=0.25)\n",
    "    pl.fit(X_tr, y_tr) # fitting to X_train and y_train\n",
    "    r2.append(pl.score(X_ts, y_ts)) # r2\n",
    "    preds = pl.predict(X_ts) # getting predictions\n",
    "    rmse.append(np.sqrt(np.mean(preds - y_ts)**2)) # rmse"
   ]
  },
  {
   "cell_type": "code",
   "execution_count": 235,
   "metadata": {},
   "outputs": [
    {
     "data": {
      "image/png": "[encoded data removed]",
      "text/plain": [
       "<Figure size 1080x288 with 2 Axes>"
      ]
     },
     "metadata": {
      "image/png": {
       "height": 263,
       "width": 889
      },
      "needs_background": "light"
     },
     "output_type": "display_data"
    }
   ],
   "source": [
    "# Plotting all R2 values and RMSE values!\n",
    "\n",
    "fig, axes = plt.subplots(1, 2)\n",
    "\n",
    "pd.Series(r2).plot(kind='hist', title='r2 in 40 final model builts', ax=axes[0]); #r2 plot\n",
    "pd.Series(rmse).plot(kind='hist', title='rmse in 40 final model builts', ax=axes[1]); # rmse plot\n",
    "\n",
    "fig.set_figwidth(15)"
   ]
  },
  {
   "cell_type": "code",
   "execution_count": 24,
   "metadata": {},
   "outputs": [],
   "source": [
    "# Now, to test for best model ... lets try to compare our values to a DecisionTreeRegressor using the same engineered features from\n",
    "# our final model and see the range of R^2 across all values\n",
    "\n",
    "# lets define pl2, which will contain the column transformer from our final pl, but now it will contain a DecisionTreeRegressor\n",
    "\n",
    "pl2 = Pipeline([('feats', ct), ('reg', DecisionTreeRegressor())])"
   ]
  },
  {
   "cell_type": "code",
   "execution_count": 37,
   "metadata": {},
   "outputs": [],
   "source": [
    "# running 40 model DecisionTreeRegressor models, all with diffrent X_tr/ts and y_tr/ts models to see overall performance:\n",
    "\n",
    "r2 = []\n",
    "rmse = []\n",
    "for _ in range(40):\n",
    "    X_tr, X_ts, y_tr, y_ts = train_test_split(ads.drop('Impressions', axis=1), ads.Impressions, test_size=0.25)\n",
    "    pl2.fit(X_tr, y_tr) # fitting to X_train and y_train\n",
    "    r2.append(pl2.score(X_ts, y_ts)) # r2\n",
    "    preds = pl2.predict(X_ts) # getting predictions\n",
    "    rmse.append(np.sqrt(np.mean(preds - y_ts)**2)) # rmse"
   ]
  },
  {
   "cell_type": "code",
   "execution_count": 38,
   "metadata": {},
   "outputs": [
    {
     "data": {
      "image/png": "[encoded data removed]",
      "text/plain": [
       "<Figure size 1080x288 with 2 Axes>"
      ]
     },
     "metadata": {
      "image/png": {
       "height": 263,
       "width": 895
      },
      "needs_background": "light"
     },
     "output_type": "display_data"
    }
   ],
   "source": [
    "# plotting results from above!\n",
    "\n",
    "fig, axes = plt.subplots(1, 2)\n",
    "\n",
    "pd.Series(r2).plot(kind='hist', title='r2 in 40 DecisionTreeRegressor models', ax=axes[0]); #r2 plot\n",
    "pd.Series(rmse).plot(kind='hist', title='rmse in 40 DecisionTreeRegressor models', ax=axes[1]); # rmse plot\n",
    "\n",
    "fig.set_figwidth(15)"
   ]
  },
  {
   "cell_type": "code",
   "execution_count": 39,
   "metadata": {},
   "outputs": [],
   "source": [
    "# The DecisionTreeRegressor model using our new engineered features from the baseline model also seems to perform decently well.\n",
    "# It is expected that this model will perform better than our original baseline model due to the new added features, however comparing\n",
    "# the performance of the final model using LinearRegression and the model using a DecisionTreeRegressor we see that using\n",
    "# a DecisionTreeRegressor definetely makes our final model more unstable as reflected by the ~-2.5 cluster of R^2 and an \n",
    "# increase in frequency across a wider range of negative R^2 values. On the other side, using LinearRegression these 40 models consistenly \n",
    "# fall into ranges of R^2 values that we want, ranging across ~0.0 and ~0.7 most of the time! As to RMSE, using a DecisionTreeRegressor \n",
    "# outputs a wider range of RMSE values in the 40 models: most of LinearRegression models fall across < ~25,000 RMSE while \n",
    "# the DecisionTreeRegressor outputs models falling around ~50,000 and ~10,000 RMSE! Therefore, we conclude that LinearRegression \n",
    "# is still the best fit for our final model."
   ]
  },
  {
   "cell_type": "code",
   "execution_count": 100,
   "metadata": {},
   "outputs": [],
   "source": [
    "# Now.. Adressing performance Final Model vs Baseline (LR chosen as best model as explained above)...\n",
    "\n",
    "# Conclusion: Final model has increased the accuracy values across all R^2 values in across all of our 40 model builds! most R^2\n",
    "# values range across ~0.0 and ~0.7. Even though final model still presents some negative values, it is definetely not as extreme\n",
    "# as getting negative R^2 values in a range between -0.0 and -1e13. This reflects that final model could be improved further more, \n",
    "# but the added engineerd features are in the final model were able to successfully find patterns to predict Impressions! Looking at\n",
    "# the RMSE for each of the 40 splits, these values seemed to lower extremly. Instead of getting really high in magnitude RMSE values \n",
    "# 1e14 scale, final model reduced all these RMSE values significantly."
   ]
  },
  {
   "cell_type": "markdown",
   "metadata": {},
   "source": [
    "### Fairness Evaluation"
   ]
  },
  {
   "cell_type": "code",
   "execution_count": 195,
   "metadata": {},
   "outputs": [
    {
     "data": {
      "text/plain": [
       "84754.55896267663"
      ]
     },
     "execution_count": 195,
     "metadata": {},
     "output_type": "execute_result"
    }
   ],
   "source": [
    "# To test for fairness, we are choosing to test our model performance based on CountryCode. The question that will be answered is: \n",
    "# Does our model have better predictions for Impressions for ads to be distributed in the US than for other countries? \n",
    "# This test is a permutation test with the Null Hypothesis: my model is fair, performance (rmse) is the same across both groups vs \n",
    "# the Alternative Hypothesis: model is unfair; performance of model(rmse) is higher for US ads. For this test, we will use \n",
    "# the observed statistic of difference between both groups' rmse (more specifically other_rmse - us_rmse), and will be testing \n",
    "# against an alpha of 0.01.\n",
    "\n",
    "# NOTE:\n",
    "# For the purpose of this test, all ads that were not distributed to the US are going to be counted as 'other'. Therefore,\n",
    "# we define for our fairness test the A(attribute of interest group) to be ads distributed OUTSIDE the US.\n",
    "\n",
    "# -------------------------------------------------------------------------------------------------------------------------------------\n",
    "\n",
    "# 1. lets find rmse for each subgroup using our model. (step to calculate observed stat)\n",
    "\n",
    "# We will fit final model pipeline with the entirety of ads (this is our training data)\n",
    "pl.fit(ads.drop('Impressions', axis=1), ads.Impressions)\n",
    "\n",
    "# Now, we can score these using different subsets.\n",
    "us = ads[ads.CountryCode == 'united states'].copy()\n",
    "\n",
    "# getting predictions and calculating US rmse\n",
    "preds = pl.predict(us.drop('Impressions', axis=1))\n",
    "us_rmse = np.sqrt(np.mean(preds - us.Impressions)**2)\n",
    "us_rmse"
   ]
  },
  {
   "cell_type": "code",
   "execution_count": 139,
   "metadata": {},
   "outputs": [
    {
     "data": {
      "text/plain": [
       "95903.89516804836"
      ]
     },
     "execution_count": 139,
     "metadata": {},
     "output_type": "execute_result"
    }
   ],
   "source": [
    "# now, we want to calculate rmse for all ads targeted to other countries (not to the us)\n",
    "\n",
    "other = ads[ads.CountryCode != 'united states'].copy()\n",
    "\n",
    "# getting predictions and calculating us rmse\n",
    "preds = pl.predict(other.drop('Impressions', axis=1))\n",
    "other_rmse = np.sqrt(np.mean(preds - other.Impressions)**2)\n",
    "other_rmse # a higher rmse for ads that targeted other countries, is this significant?"
   ]
  },
  {
   "cell_type": "code",
   "execution_count": 140,
   "metadata": {},
   "outputs": [
    {
     "data": {
      "text/plain": [
       "12831.916012865404"
      ]
     },
     "execution_count": 140,
     "metadata": {},
     "output_type": "execute_result"
    }
   ],
   "source": [
    "# 2. Defining observed statistic, calculating observed difference (other - US)\n",
    "\n",
    "# For our observed stats we are going to compute the different between 'others's rmse and ads targeting the states rmse\n",
    "obs = other_rmse - us_rmse\n",
    "obs # is this value significant?"
   ]
  },
  {
   "cell_type": "code",
   "execution_count": 141,
   "metadata": {},
   "outputs": [],
   "source": [
    "####### PERMUTATION TEST ########\n",
    "\n",
    "# NOTE: We are using df 'countries', which is just a copy of ads for shuffling CountryCodes. \n",
    "# This is to not edit original data, ads.\n",
    "\n",
    "countries = ads.copy()\n",
    "\n",
    "N = 300\n",
    "differences = [] # differences will hold our test stat\n",
    "\n",
    "for _ in range(N):       \n",
    "    # 1. Shuffling countries for each iteration\n",
    "    shuffled_countries = (\n",
    "        countries['CountryCode']\n",
    "        .sample(replace=False, frac=1)\n",
    "        .reset_index(drop=True)\n",
    "    )\n",
    "\n",
    "    # 2. Setting shuffled_countries to countries (ads copy) CountryCode!\n",
    "    countries.CountryCode = shuffled_countries\n",
    "\n",
    "    # 3. Getting us_scores and other_scores\n",
    "    us = countries[countries.CountryCode == 'united states'].copy()\n",
    "    preds = pl.predict(us.drop('Impressions', axis=1))\n",
    "    us_rmse = np.sqrt(np.mean(preds - us.Impressions)**2) # getting us_score\n",
    "\n",
    "    other = countries[countries.CountryCode != 'united states'].copy()\n",
    "    preds = pl.predict(other.drop('Impressions', axis=1))\n",
    "    other_rmse = np.sqrt(np.mean(preds - other.Impressions)**2) # getting other_score\n",
    "\n",
    "    # 4. Appending observed statistic, difference betweeen us and other's rmse!\n",
    "    differences.append(other_rmse - us_rmse)"
   ]
  },
  {
   "cell_type": "code",
   "execution_count": 142,
   "metadata": {},
   "outputs": [
    {
     "data": {
      "image/png": "[encoded data removed]",
      "text/plain": [
       "<Figure size 432x288 with 1 Axes>"
      ]
     },
     "metadata": {
      "image/png": {
       "height": 263,
       "width": 422
      },
      "needs_background": "light"
     },
     "output_type": "display_data"
    }
   ],
   "source": [
    "# 5. Now, lets graph our observed difference between ads distributed in the US and ads distributes in other countries\n",
    "\n",
    "pd.Series(differences).plot(kind='hist', density=True, alpha=0.8, title='difference in rmse across ads in the US and other countries')\n",
    "plt.scatter(obs, 0, color='red', s=40);"
   ]
  },
  {
   "cell_type": "code",
   "execution_count": 143,
   "metadata": {},
   "outputs": [
    {
     "data": {
      "text/plain": [
       "0.21666666666666667"
      ]
     },
     "execution_count": 143,
     "metadata": {},
     "output_type": "execute_result"
    }
   ],
   "source": [
    "# 6. Getting p-value for obs\n",
    "\n",
    "(pd.Series(differences) >= obs).mean()"
   ]
  },
  {
   "cell_type": "code",
   "execution_count": 108,
   "metadata": {},
   "outputs": [],
   "source": [
    "# Conclusion: Since p-value(0.216) > alpha(0.01), we do not reject the Null! Therefore, we can conclude that our model\n",
    "# is fair across subgroup of interest, A, as well as ads outside this group. In other words, our model seems to be \n",
    "# generating predictions for ads distributed outside the US and ads distributed in the US fairly, the difference that we see in\n",
    "# RMSE across both groups is NOT significant."
   ]
  }
 ],
 "metadata": {
  "kernelspec": {
   "display_name": "Python 3",
   "language": "python",
   "name": "python3"
  },
  "language_info": {
   "codemirror_mode": {
    "name": "ipython",
    "version": 3
   },
   "file_extension": ".py",
   "mimetype": "text/x-python",
   "name": "python",
   "nbconvert_exporter": "python",
   "pygments_lexer": "ipython3",
   "version": "3.7.6"
  }
 },
 "nbformat": 4,
 "nbformat_minor": 4
}
